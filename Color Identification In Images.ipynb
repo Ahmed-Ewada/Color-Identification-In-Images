{
 "cells": [
  {
   "cell_type": "code",
   "execution_count": 1,
   "id": "44474aaf-2d5c-44b9-9b15-13170b8166ad",
   "metadata": {},
   "outputs": [
    {
     "name": "stdout",
     "output_type": "stream",
     "text": [
      "^C\n",
      "Path to dataset files: []\n"
     ]
    }
   ],
   "source": [
    "path = !kaggle datasets download -d \"ehsanzafari/colors-csv\"\n",
    "\n",
    "print(\"Path to dataset files:\", path)"
   ]
  },
  {
   "cell_type": "code",
   "execution_count": 4,
   "id": "d959b93a-f7b4-4b34-b142-05dcc48cf5c2",
   "metadata": {},
   "outputs": [
    {
     "name": "stdout",
     "output_type": "stream",
     "text": [
      "Extracted files: ['colors.csv']\n"
     ]
    }
   ],
   "source": [
    "import zipfile\n",
    "import os\n",
    "\n",
    "dataset_path = \"colors-csv.zip\"  # Adjust this based on actual filename\n",
    "with zipfile.ZipFile(dataset_path, 'r') as zip_ref:\n",
    "    zip_ref.extractall(\"Colors\")  # Extract to \"dataset\" folder\n",
    "\n",
    "print(\"Extracted files:\", os.listdir(\"Colors\"))\n"
   ]
  },
  {
   "cell_type": "code",
   "execution_count": 2,
   "id": "22feecda-1624-49df-89d0-3f2e193b78a1",
   "metadata": {},
   "outputs": [],
   "source": [
    "import cv2\n",
    "import pandas as pd\n",
    "import numpy as np\n"
   ]
  },
  {
   "cell_type": "code",
   "execution_count": 3,
   "id": "5b9e899a-7ee2-4b64-aae1-7b893f0b027e",
   "metadata": {},
   "outputs": [],
   "source": [
    "# Load dataset with correct column names\n",
    "column_names = [\"color_name\", \"proper_name\", \"hex\", \"R\", \"G\", \"B\"]\n",
    "color_data = pd.read_csv(\"C:/Users/aewad/Colors/colors.csv\", names=column_names, header=0)\n"
   ]
  },
  {
   "cell_type": "code",
   "execution_count": 4,
   "id": "36d7290e-a055-4cf4-939b-ea09300cdab9",
   "metadata": {},
   "outputs": [
    {
     "data": {
      "text/html": [
       "<div>\n",
       "<style scoped>\n",
       "    .dataframe tbody tr th:only-of-type {\n",
       "        vertical-align: middle;\n",
       "    }\n",
       "\n",
       "    .dataframe tbody tr th {\n",
       "        vertical-align: top;\n",
       "    }\n",
       "\n",
       "    .dataframe thead th {\n",
       "        text-align: right;\n",
       "    }\n",
       "</style>\n",
       "<table border=\"1\" class=\"dataframe\">\n",
       "  <thead>\n",
       "    <tr style=\"text-align: right;\">\n",
       "      <th></th>\n",
       "      <th>color_name</th>\n",
       "      <th>proper_name</th>\n",
       "      <th>hex</th>\n",
       "      <th>R</th>\n",
       "      <th>G</th>\n",
       "      <th>B</th>\n",
       "    </tr>\n",
       "  </thead>\n",
       "  <tbody>\n",
       "    <tr>\n",
       "      <th>0</th>\n",
       "      <td>air_force_blue_usaf</td>\n",
       "      <td>Air Force Blue (Usaf)</td>\n",
       "      <td>#00308f</td>\n",
       "      <td>0</td>\n",
       "      <td>48</td>\n",
       "      <td>143</td>\n",
       "    </tr>\n",
       "    <tr>\n",
       "      <th>1</th>\n",
       "      <td>air_superiority_blue</td>\n",
       "      <td>Air Superiority Blue</td>\n",
       "      <td>#72a0c1</td>\n",
       "      <td>114</td>\n",
       "      <td>160</td>\n",
       "      <td>193</td>\n",
       "    </tr>\n",
       "    <tr>\n",
       "      <th>2</th>\n",
       "      <td>alabama_crimson</td>\n",
       "      <td>Alabama Crimson</td>\n",
       "      <td>#a32638</td>\n",
       "      <td>163</td>\n",
       "      <td>38</td>\n",
       "      <td>56</td>\n",
       "    </tr>\n",
       "    <tr>\n",
       "      <th>3</th>\n",
       "      <td>alice_blue</td>\n",
       "      <td>Alice Blue</td>\n",
       "      <td>#f0f8ff</td>\n",
       "      <td>240</td>\n",
       "      <td>248</td>\n",
       "      <td>255</td>\n",
       "    </tr>\n",
       "    <tr>\n",
       "      <th>4</th>\n",
       "      <td>alizarin_crimson</td>\n",
       "      <td>Alizarin Crimson</td>\n",
       "      <td>#e32636</td>\n",
       "      <td>227</td>\n",
       "      <td>38</td>\n",
       "      <td>54</td>\n",
       "    </tr>\n",
       "  </tbody>\n",
       "</table>\n",
       "</div>"
      ],
      "text/plain": [
       "             color_name            proper_name      hex    R    G    B\n",
       "0   air_force_blue_usaf  Air Force Blue (Usaf)  #00308f    0   48  143\n",
       "1  air_superiority_blue   Air Superiority Blue  #72a0c1  114  160  193\n",
       "2       alabama_crimson        Alabama Crimson  #a32638  163   38   56\n",
       "3            alice_blue             Alice Blue  #f0f8ff  240  248  255\n",
       "4      alizarin_crimson       Alizarin Crimson  #e32636  227   38   54"
      ]
     },
     "execution_count": 4,
     "metadata": {},
     "output_type": "execute_result"
    }
   ],
   "source": [
    "color_data.head()"
   ]
  },
  {
   "cell_type": "code",
   "execution_count": 6,
   "id": "99944734-a2dd-443d-8fac-2fb964b293c7",
   "metadata": {},
   "outputs": [
    {
     "name": "stdout",
     "output_type": "stream",
     "text": [
      "Color: red | RGB: (255, 0, 0)\n",
      "Color: red | RGB: (255, 0, 0)\n"
     ]
    }
   ],
   "source": [
    "# Function to find the closest color name\n",
    "def get_color_name(R, G, B):\n",
    "    min_distance = float('inf')\n",
    "    color_name = \"Unknown\"\n",
    "    for index, row in color_data.iterrows():\n",
    "        distance = np.sqrt((R - row[\"R\"])**2 + (G - row[\"G\"])**2 + (B - row[\"B\"])**2)\n",
    "        if distance < min_distance:\n",
    "            min_distance = distance\n",
    "            color_name = row[\"color_name\"]\n",
    "    return color_name\n",
    "\n",
    "# Load the image\n",
    "image_path = \"C:/Users/aewad/OneDrive/Pictures/Screenshots/Screenshot 2025-03-24 053922.png\"  # Change this to your image path\n",
    "image = cv2.imread(image_path)\n",
    "\n",
    "# Resize the image (optional)\n",
    "image = cv2.resize(image, (600, 400))\n",
    "\n",
    "# Mouse click event to get the color\n",
    "def detect_color(event, x, y, flags, param):\n",
    "    if event == cv2.EVENT_LBUTTONDOWN:  # Left mouse button click\n",
    "        B, G, R = image[y, x]  # Get RGB values\n",
    "        color_name = get_color_name(R, G, B)  # Find closest color\n",
    "        print(f\"Color: {color_name} | RGB: ({R}, {G}, {B})\")\n",
    "        cv2.putText(image, color_name, (x, y), cv2.FONT_HERSHEY_SIMPLEX, 0.8, (int(B), int(G), int(R)), 2)\n",
    "        cv2.imshow(\"Color Detection\", image)\n",
    "\n",
    "# Display image and detect colors on click\n",
    "cv2.imshow(\"Color Detection\", image)\n",
    "cv2.setMouseCallback(\"Color Detection\", detect_color)\n",
    "\n",
    "cv2.waitKey(0)\n",
    "cv2.destroyAllWindows()\n"
   ]
  },
  {
   "cell_type": "code",
   "execution_count": null,
   "id": "2574e562-bd80-444e-8e39-34835925b757",
   "metadata": {},
   "outputs": [],
   "source": []
  }
 ],
 "metadata": {
  "kernelspec": {
   "display_name": "Python 3 (ipykernel)",
   "language": "python",
   "name": "python3"
  },
  "language_info": {
   "codemirror_mode": {
    "name": "ipython",
    "version": 3
   },
   "file_extension": ".py",
   "mimetype": "text/x-python",
   "name": "python",
   "nbconvert_exporter": "python",
   "pygments_lexer": "ipython3",
   "version": "3.12.4"
  }
 },
 "nbformat": 4,
 "nbformat_minor": 5
}
